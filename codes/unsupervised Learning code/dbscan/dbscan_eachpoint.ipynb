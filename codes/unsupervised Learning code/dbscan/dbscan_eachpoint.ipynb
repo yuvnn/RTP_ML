{
 "cells": [
  {
   "cell_type": "markdown",
   "metadata": {},
   "source": [
    "### 모든 point 하나의 csv파일에 병합\n",
    "folder_path = 경로데이터가 모여있는 폴더"
   ]
  },
  {
   "cell_type": "code",
   "execution_count": null,
   "metadata": {},
   "outputs": [],
   "source": [
    "import os\n",
    "import pandas as pd\n",
    "\n",
    "# 폴더 경로 설정 (예: 'path_to_your_folder')\n",
    "folder_path = '../../output/어디쉐어/어디쉐어 dbscan_interpolate'\n",
    "\n",
    "# 병합할 빈 DataFrame 생성\n",
    "merged_df = pd.DataFrame()\n",
    "\n",
    "# 폴더 내 모든 CSV 파일에 대해 반복\n",
    "for filename in os.listdir(folder_path):\n",
    "    if filename.endswith('.csv'):\n",
    "        file_path = os.path.join(folder_path, filename)\n",
    "        \n",
    "        # CSV 파일을 DataFrame으로 읽기\n",
    "        df = pd.read_csv(file_path)\n",
    "        \n",
    "        # 필요한 열만 선택 (lat, lng, output)\n",
    "        df = df[['lat', 'lng', 'output']]\n",
    "        \n",
    "        # 병합된 DataFrame에 추가\n",
    "        merged_df = pd.concat([merged_df, df], ignore_index=True)\n",
    "\n",
    "# 결과를 하나의 CSV 파일로 저장\n",
    "merged_df.to_csv('./combined.csv', index=False)\n",
    "\n",
    "print(\"CSV 파일이 성공적으로 병합되었습니다.\")\n"
   ]
  },
  {
   "cell_type": "markdown",
   "metadata": {},
   "source": [
    "### dbscan 수행"
   ]
  },
  {
   "cell_type": "code",
   "execution_count": null,
   "metadata": {},
   "outputs": [],
   "source": [
    "import pandas as pd\n",
    "from sklearn.cluster import DBSCAN\n",
    "import matplotlib.pyplot as plt\n",
    "\n",
    "# CSV 파일 읽기 (파일 경로를 적절히 변경하세요)\n",
    "file_path = \"./combined.csv\"\n",
    "data = pd.read_csv(file_path)\n",
    "\n",
    "# 'lat', 'lng' 열 추출\n",
    "coordinates = data[['lat', 'lng']]\n",
    "\n",
    "# DBSCAN 클러스터링 수행\n",
    "# eps와 min_samples 값은 데이터에 따라 조정이 필요합니다.\n",
    "db = DBSCAN(eps=0.01, min_samples=100).fit(coordinates)\n",
    "\n",
    "# 클러스터 라벨 추가\n",
    "labels = db.labels_\n",
    "\n",
    "# 결과 시각화\n",
    "plt.figure(figsize=(10, 6))\n",
    "\n",
    "# 이상치 (라벨 -1)\n",
    "outliers = coordinates[labels == -1]\n",
    "# 정상 데이터 (라벨 -1이 아닌 것)\n",
    "core_samples = coordinates[labels != -1]\n",
    "\n",
    "# 정상 데이터는 파란색으로, 이상치는 빨간색으로 표시\n",
    "# plt.scatter(core_samples['lng'], core_samples['lat'], c='blue', marker='o', label='Core Points')\n",
    "# plt.scatter(outliers['lng'], outliers['lat'], c='red', marker='o', label='Outliers')\n",
    "\n",
    "\n",
    "plt.xlabel('Longitude')\n",
    "plt.ylabel('Latitude')\n",
    "plt.title('DBSCAN Clustering of Geographical Data')\n",
    "plt.legend()\n",
    "plt.show()\n"
   ]
  }
 ],
 "metadata": {
  "language_info": {
   "name": "python"
  }
 },
 "nbformat": 4,
 "nbformat_minor": 2
}
