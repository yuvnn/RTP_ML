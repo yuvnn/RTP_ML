{
 "cells": [
  {
   "cell_type": "markdown",
   "metadata": {},
   "source": [
    "## dbscan 최적 파라미터 찾기"
   ]
  },
  {
   "cell_type": "markdown",
   "metadata": {},
   "source": [
    "### eps 찾기 - k-거리 계산법\n",
    "\n",
    "directory_path 는 경로 파일들의 상위 폴더를 넣으면 됨"
   ]
  },
  {
   "cell_type": "code",
   "execution_count": null,
   "metadata": {},
   "outputs": [],
   "source": [
    "import numpy as np\n",
    "import pandas as pd\n",
    "import os\n",
    "from sklearn.neighbors import NearestNeighbors\n",
    "import matplotlib.pyplot as plt\n",
    "\n",
    "def extract_lat_lng_from_csv(directory):\n",
    "    all_lat_lng_lists = []\n",
    "    for filename in os.listdir(directory):\n",
    "        if filename.endswith(\".csv\"):\n",
    "            filepath = os.path.join(directory, filename)\n",
    "            df = pd.read_csv(filepath)\n",
    "            lat_lng_list = [(row['lat'], row['lng']) for index, row in df.iterrows()]\n",
    "            all_lat_lng_lists.append(lat_lng_list)\n",
    "    return np.concatenate(all_lat_lng_lists)  # 모든 데이터 포인트를 하나로 결합\n",
    "\n",
    "def plot_k_distance_graph(data, k):\n",
    "    # K번째 가까운 이웃까지의 거리 계산\n",
    "    neighbors = NearestNeighbors(n_neighbors=k)\n",
    "    neighbors.fit(data)\n",
    "    distances, _ = neighbors.kneighbors(data)\n",
    "    k_distances = np.sort(distances[:, -1], axis=0)  # K번째 거리 추출 및 정렬\n",
    "\n",
    "    # 1차 미분 계산\n",
    "    first_derivative = np.diff(k_distances)\n",
    "    \n",
    "    # 2차 미분 계산\n",
    "    second_derivative = np.diff(first_derivative)\n",
    "\n",
    "    # 그래프 그리기\n",
    "    plt.figure(figsize=(15, 10))\n",
    "    plt.subplot(3, 1, 1)\n",
    "    plt.plot(k_distances)\n",
    "    plt.title('K-Distance Graph')\n",
    "    plt.xlabel('Data Points Sorted by Distance')\n",
    "    plt.ylabel('Distance to the k-th Nearest Neighbor')\n",
    "    plt.grid(True)\n",
    "\n",
    "    plt.subplot(3, 1, 2)\n",
    "    plt.plot(first_derivative)\n",
    "    plt.xlabel('Data Points Sorted by Distance')\n",
    "    plt.ylabel('1st Derivative')\n",
    "    plt.grid(True)\n",
    "\n",
    "    plt.subplot(3, 1, 3)\n",
    "    plt.plot(second_derivative)\n",
    "    plt.xlabel('Data Points Sorted by Distance')\n",
    "    plt.ylabel('2nd Derivative')\n",
    "    plt.grid(True)\n",
    "    plt.show()\n",
    "\n",
    "    # 엉덩이 지점 찾기\n",
    "    elbow_index = np.argmax(second_derivative)\n",
    "    return k_distances[elbow_index]\n",
    "\n",
    "# 데이터 경로 설정\n",
    "directory_path = \"../어디쉐어/어디쉐어 dbscan\"\n",
    "data = extract_lat_lng_from_csv(directory_path)\n",
    "\n",
    "# K-거리 그래프와 기울기 변화 분석\n",
    "optimal_eps = plot_k_distance_graph(data, k=5)\n",
    "print(f'Optimal eps value: {optimal_eps}')\n"
   ]
  },
  {
   "cell_type": "markdown",
   "metadata": {},
   "source": [
    "### min_samples, eps변경에 따른 silhouette_score 비교\n",
    "\n",
    "silhouette_score가 1에 가까울수록 적합도가 높다고 평가"
   ]
  },
  {
   "cell_type": "code",
   "execution_count": null,
   "metadata": {},
   "outputs": [],
   "source": [
    "from sklearn.metrics import silhouette_score\n",
    "\n",
    "def evaluate_dbscan(data, eps_values, min_samples_values):\n",
    "    best_score = -1\n",
    "    best_eps = None\n",
    "    best_min_samples = None\n",
    "\n",
    "    for eps in eps_values:\n",
    "        for min_samples in min_samples_values:\n",
    "            dbscan = DBSCAN(eps=eps, min_samples=min_samples)\n",
    "            labels = dbscan.fit_predict(data)\n",
    "            if len(set(labels)) > 1:  # 최소 두 개 이상의 클러스터가 필요\n",
    "                score = silhouette_score(data, labels, metric='euclidean')\n",
    "                print(f'eps={eps}, min_samples={min_samples}, silhouette_score={score}')\n",
    "                if score > best_score:\n",
    "                    best_score = score\n",
    "                    best_eps = eps\n",
    "                    best_min_samples = min_samples\n",
    "\n",
    "    return best_eps, best_min_samples\n",
    "\n",
    "# 예시 사용\n",
    "eps_values = np.arange(0.01, 0.015, 0.05)ㅁ\n",
    "min_samples_values = range(20, 50, 5)\n",
    "data = np.concatenate(lat_lng_values)  # 모든 데이터 포인트를 하나로 결합\n",
    "best_eps, best_min_samples = evaluate_dbscan(data, eps_values, min_samples_values)\n",
    "\n",
    "print(f'Best eps: {best_eps}, Best min_samples: {best_min_samples}')\n"
   ]
  }
 ],
 "metadata": {
  "language_info": {
   "name": "python"
  }
 },
 "nbformat": 4,
 "nbformat_minor": 2
}
