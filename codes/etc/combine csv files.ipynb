{
 "cells": [
  {
   "cell_type": "code",
   "execution_count": 7,
   "id": "b5181fb1-a437-4f18-8309-de2441722ca8",
   "metadata": {},
   "outputs": [
    {
     "name": "stdout",
     "output_type": "stream",
     "text": [
      "CSV 파일이 성공적으로 병합되었습니다.\n"
     ]
    }
   ],
   "source": [
    "import os\n",
    "import pandas as pd\n",
    "\n",
    "# 폴더 경로 설정 (예: 'path_to_your_folder')\n",
    "folder_path = '../../output/어디쉐어/어디쉐어 dbscan_interpolate'\n",
    "\n",
    "# 병합할 빈 DataFrame 생성\n",
    "merged_df = pd.DataFrame()\n",
    "\n",
    "# 폴더 내 모든 CSV 파일에 대해 반복\n",
    "for filename in os.listdir(folder_path):\n",
    "    if filename.endswith('.csv'):\n",
    "        file_path = os.path.join(folder_path, filename)\n",
    "        \n",
    "        # CSV 파일을 DataFrame으로 읽기\n",
    "        df = pd.read_csv(file_path)\n",
    "        \n",
    "        # 필요한 열만 선택 (lat, lng, output)\n",
    "        df = df[['lat', 'lng', 'output']]\n",
    "        \n",
    "        # 병합된 DataFrame에 추가\n",
    "        merged_df = pd.concat([merged_df, df], ignore_index=True)\n",
    "\n",
    "# 결과를 하나의 CSV 파일로 저장\n",
    "merged_df.to_csv('../../output/dbs_intrp_comb_output.csv', index=False)\n",
    "\n",
    "print(\"CSV 파일이 성공적으로 병합되었습니다.\")\n"
   ]
  },
  {
   "cell_type": "code",
   "execution_count": null,
   "id": "4e1b1d8b-ce35-447c-8001-262f81ef569b",
   "metadata": {},
   "outputs": [],
   "source": []
  },
  {
   "cell_type": "code",
   "execution_count": null,
   "id": "db1d02b9",
   "metadata": {},
   "outputs": [],
   "source": []
  }
 ],
 "metadata": {
  "kernelspec": {
   "display_name": "Python 3",
   "language": "python",
   "name": "python3"
  },
  "language_info": {
   "codemirror_mode": {
    "name": "ipython",
    "version": 3
   },
   "file_extension": ".py",
   "mimetype": "text/x-python",
   "name": "python",
   "nbconvert_exporter": "python",
   "pygments_lexer": "ipython3",
   "version": "3.11.9"
  }
 },
 "nbformat": 4,
 "nbformat_minor": 5
}
