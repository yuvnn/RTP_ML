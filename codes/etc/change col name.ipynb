{
 "cells": [
  {
   "cell_type": "markdown",
   "id": "e45ec2c4",
   "metadata": {},
   "source": [
    "### 파일 여러개"
   ]
  },
  {
   "cell_type": "code",
   "execution_count": null,
   "id": "6711d7c0",
   "metadata": {},
   "outputs": [],
   "source": [
    "import os\n",
    "import pandas as pd\n",
    "\n",
    "# 폴더 경로를 지정합니다.\n",
    "folder_path = r\"..\\..\\output\\SL preprocessing\\dbs_intrp_fin.csv\"\n",
    "\n",
    "before = 'F1'\n",
    "after = 'output'\n",
    "\n",
    "# 폴더 내 모든 파일을 순회합니다.\n",
    "for filename in os.listdir(folder_path):\n",
    "    # 확장자가 .csv인 파일만 처리합니다.\n",
    "    if filename.endswith('.csv'):\n",
    "        file_path = os.path.join(folder_path, filename)\n",
    "        \n",
    "        # CSV 파일을 읽어옵니다.\n",
    "        df = pd.read_csv(file_path)\n",
    "        \n",
    "        # 열 이름을 변경합니다.\n",
    "        if before in df.columns:\n",
    "            df.rename(columns={before: after}, inplace=True)\n",
    "        \n",
    "        # 변경된 내용을 다시 파일에 저장합니다.\n",
    "        df.to_csv(file_path, index=False)\n",
    "\n",
    "print(f\"모든 CSV 파일의 {before} 열 이름이 {after}으로 변경되었습니다.\")\n"
   ]
  },
  {
   "cell_type": "markdown",
   "id": "b2fe28ba",
   "metadata": {},
   "source": [
    "### 단일 파일"
   ]
  },
  {
   "cell_type": "code",
   "execution_count": 5,
   "id": "4e1b1d8b-ce35-447c-8001-262f81ef569b",
   "metadata": {},
   "outputs": [
    {
     "name": "stdout",
     "output_type": "stream",
     "text": [
      "CSV 파일의 ouput 열 이름이 output으로 변경되었습니다.\n"
     ]
    }
   ],
   "source": [
    "import os\n",
    "import pandas as pd\n",
    "\n",
    "# 폴더 경로를 지정합니다.\n",
    "file_path = r\"..\\..\\output\\SL preprocessing\\dbs_intrp_fin.csv\"\n",
    "\n",
    "before = 'ouput'\n",
    "after = 'output'\n",
    "        \n",
    "# CSV 파일을 읽어옵니다.\n",
    "df = pd.read_csv(file_path)\n",
    "        \n",
    "# 열 이름을 변경합니다.\n",
    "if before in df.columns:\n",
    "    df.rename(columns={before: after}, inplace=True)\n",
    "\n",
    "# 변경된 내용을 다시 파일에 저장합니다.\n",
    "df.to_csv(file_path, index=False)\n",
    "\n",
    "print(f\"CSV 파일의 {before} 열 이름이 {after}으로 변경되었습니다.\")\n"
   ]
  },
  {
   "cell_type": "code",
   "execution_count": null,
   "id": "36b134f9",
   "metadata": {},
   "outputs": [],
   "source": []
  }
 ],
 "metadata": {
  "kernelspec": {
   "display_name": "Python 3",
   "language": "python",
   "name": "python3"
  },
  "language_info": {
   "codemirror_mode": {
    "name": "ipython",
    "version": 3
   },
   "file_extension": ".py",
   "mimetype": "text/x-python",
   "name": "python",
   "nbconvert_exporter": "python",
   "pygments_lexer": "ipython3",
   "version": "3.11.9"
  }
 },
 "nbformat": 4,
 "nbformat_minor": 5
}
