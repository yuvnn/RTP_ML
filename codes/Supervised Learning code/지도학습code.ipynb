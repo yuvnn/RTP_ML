{
  "cells": [
    {
      "cell_type": "code",
      "execution_count": null,
      "metadata": {
        "id": "ebvBpjEobVil"
      },
      "outputs": [],
      "source": [
        "import numpy as np\n",
        "import pandas as pd\n",
        "import os\n",
        "from sklearn.model_selection import train_test_split\n",
        "from tensorflow.keras.preprocessing.sequence import pad_sequences\n",
        "from tensorflow.keras.utils import to_categorical\n",
        "from tensorflow.keras.models import Sequential\n",
        "from tensorflow.keras.layers import Embedding, GRU, Dense\n",
        "from tensorflow.keras.preprocessing.text import Tokenizer\n",
        "from sklearn.metrics import confusion_matrix\n",
        "\n",
        "import seaborn as sns\n",
        "import matplotlib.pyplot as plt\n",
        "\n",
        "# 데이터셋 로드\n",
        "\n",
        "\n",
        "data_path = '/content/combined_output_no_duplicates.csv'\n",
        "data = pd.read_csv(data_path)\n",
        "\n",
        "# 격자 경로를 숫자 값으로 변환하기 위한 토크나이저 생성\n",
        "tokenizer = Tokenizer(char_level=True)  # 문자 단위 토크나이저\n",
        "tokenizer.fit_on_texts(data['grid_label'])\n",
        "sequences = tokenizer.texts_to_sequences(data['grid_label'])\n",
        "\n",
        "# 시퀀스 패딩\n",
        "max_sequence_length = max(len(seq) for seq in sequences)\n",
        "X = pad_sequences(sequences, maxlen=max_sequence_length, padding='post')\n",
        "\n",
        "# 라벨 인코딩\n",
        "data['label'] = data['output'].map({'N': 0, 'AN': 1})  # 비정상 경로가 'AN'인 경우\n",
        "y = data['label'].values\n",
        "y = to_categorical(y)  # 원-핫 인코딩\n",
        "\n",
        "# 훈련/테스트 데이터 분할\n",
        "X_train, X_test, y_train, y_test = train_test_split(X, y, test_size=0.2, random_state=42)"
      ]
    },
    {
      "cell_type": "code",
      "execution_count": null,
      "metadata": {
        "colab": {
          "base_uri": "https://localhost:8080/",
          "height": 1000
        },
        "id": "IaJrerB7bk9G",
        "outputId": "ebbddc5c-67f9-4842-c4d8-cd1d27a2c053"
      },
      "outputs": [
        {
          "name": "stdout",
          "output_type": "stream",
          "text": [
            "Epoch 1/15\n",
            "63/63 [==============================] - 12s 53ms/step - loss: 0.3851 - accuracy: 0.8474 - val_loss: 0.1779 - val_accuracy: 0.9524\n",
            "Epoch 2/15\n",
            "63/63 [==============================] - 1s 10ms/step - loss: 0.2349 - accuracy: 0.9237 - val_loss: 0.1574 - val_accuracy: 0.9524\n",
            "Epoch 3/15\n",
            "63/63 [==============================] - 1s 11ms/step - loss: 0.1063 - accuracy: 0.9639 - val_loss: 0.1292 - val_accuracy: 0.9683\n",
            "Epoch 4/15\n",
            "63/63 [==============================] - 1s 11ms/step - loss: 0.0928 - accuracy: 0.9719 - val_loss: 0.0634 - val_accuracy: 0.9683\n",
            "Epoch 5/15\n",
            "63/63 [==============================] - 1s 11ms/step - loss: 0.0870 - accuracy: 0.9719 - val_loss: 0.1244 - val_accuracy: 0.9524\n",
            "Epoch 6/15\n",
            "63/63 [==============================] - 1s 12ms/step - loss: 0.0726 - accuracy: 0.9759 - val_loss: 0.0754 - val_accuracy: 0.9683\n",
            "Epoch 7/15\n",
            "63/63 [==============================] - 1s 11ms/step - loss: 0.0889 - accuracy: 0.9719 - val_loss: 0.1011 - val_accuracy: 0.9683\n",
            "Epoch 8/15\n",
            "63/63 [==============================] - 1s 11ms/step - loss: 0.0429 - accuracy: 0.9799 - val_loss: 0.0777 - val_accuracy: 0.9683\n",
            "Epoch 9/15\n",
            "63/63 [==============================] - 1s 10ms/step - loss: 0.0672 - accuracy: 0.9719 - val_loss: 0.0822 - val_accuracy: 0.9683\n",
            "Epoch 10/15\n",
            "63/63 [==============================] - 1s 11ms/step - loss: 0.0291 - accuracy: 0.9920 - val_loss: 0.0726 - val_accuracy: 0.9841\n",
            "Epoch 11/15\n",
            "63/63 [==============================] - 1s 11ms/step - loss: 0.0481 - accuracy: 0.9839 - val_loss: 0.0563 - val_accuracy: 0.9841\n",
            "Epoch 12/15\n",
            "63/63 [==============================] - 1s 12ms/step - loss: 0.0159 - accuracy: 0.9920 - val_loss: 0.1082 - val_accuracy: 0.9841\n",
            "Epoch 13/15\n",
            "63/63 [==============================] - 1s 16ms/step - loss: 0.0565 - accuracy: 0.9839 - val_loss: 0.0416 - val_accuracy: 0.9841\n",
            "Epoch 14/15\n",
            "63/63 [==============================] - 1s 17ms/step - loss: 0.0281 - accuracy: 0.9880 - val_loss: 0.0639 - val_accuracy: 0.9683\n",
            "Epoch 15/15\n",
            "63/63 [==============================] - 1s 11ms/step - loss: 0.0078 - accuracy: 1.0000 - val_loss: 0.1135 - val_accuracy: 0.9683\n",
            "3/3 [==============================] - 0s 7ms/step - loss: 0.3697 - accuracy: 0.9487\n",
            "테스트 정확도: 0.9487179517745972\n",
            "----------------------------------------------\n",
            "3/3 [==============================] - 1s 6ms/step\n"
          ]
        },
        {
          "data": {
            "image/png": "[encoded data removed]",
            "text/plain": [
              "<Figure size 1000x700 with 2 Axes>"
            ]
          },
          "metadata": {},
          "output_type": "display_data"
        }
      ],
      "source": [
        "# 모델 생성\n",
        "model = Sequential([\n",
        "    Embedding(input_dim=len(tokenizer.word_index) + 1, output_dim=64, input_length=max_sequence_length),\n",
        "    GRU(512,return_sequences=True),  # GRU 레이어\n",
        "    GRU(256, return_sequences=True),  # GRU 레이어\n",
        "    GRU(128, return_sequences=True),  # GRU 레이어\n",
        "    GRU(64, return_sequences=False),  # GRU 레이어\n",
        "    Dense(2, activation='softmax'),  # Dense 레이어(출력층)\n",
        "])\n",
        "\n",
        "model.compile(loss='binary_crossentropy', optimizer='adam', metrics=['accuracy'])\n",
        "\n",
        "# 모델 훈련\n",
        "history = model.fit(X_train, y_train, epochs=15, validation_split=0.2, batch_size=4)\n",
        "\n",
        "# 모델 평가\n",
        "loss, accuracy = model.evaluate(X_test, y_test)\n",
        "print(f'테스트 정확도: {accuracy}')\n",
        "print('----------------------------------------------')\n",
        "\n",
        "\n",
        "# Confusion Matrix 계산\n",
        "y_test_labels = np.argmax(y_test, axis=1)  # 원-핫 인코딩을 정수 라벨로 변환\n",
        "y_pred_prob = model.predict(X_test)\n",
        "y_pred_labels = np.argmax(y_pred_prob, axis=1)  # 예측 확률을 정수 라벨로 변환\n",
        "\n",
        "conf_matrix = confusion_matrix(y_test_labels, y_pred_labels)\n",
        "\n",
        "# Confusion Matrix 출력\n",
        "plt.figure(figsize=(10, 7))\n",
        "sns.heatmap(conf_matrix, annot=True, fmt='d', cmap='Blues', xticklabels=['N', 'AN'], yticklabels=['N', 'AN'])\n",
        "plt.xlabel('Predicted')\n",
        "plt.ylabel('Actual')\n",
        "plt.title('Confusion Matrix')\n",
        "plt.show()"
      ]
    },
    {
      "cell_type": "code",
      "execution_count": null,
      "metadata": {
        "colab": {
          "base_uri": "https://localhost:8080/"
        },
        "id": "wXilBpSnbmk2",
        "outputId": "522639a0-e316-420e-efd6-b627363aefb1"
      },
      "outputs": [
        {
          "name": "stdout",
          "output_type": "stream",
          "text": [
            "3/3 [==============================] - 0s 7ms/step\n",
            "Precision: 1.0\n",
            "Recall: 0.8518518518518519\n",
            "F1 Score: 0.92\n",
            "----------------------------------------------\n"
          ]
        }
      ],
      "source": [
        "# F1 Score 계산\n",
        "from sklearn.metrics import confusion_matrix, precision_score, recall_score, f1_score\n",
        "\n",
        "y_test_labels = np.argmax(y_test, axis=1)  # 원-핫 인코딩을 정수 라벨로 변환\n",
        "y_pred_prob = model.predict(X_test)\n",
        "y_pred_labels = np.argmax(y_pred_prob, axis=1)  # 예측 확률을 정수 라벨로 변환\n",
        "\n",
        "precision = precision_score(y_test_labels, y_pred_labels)\n",
        "recall = recall_score(y_test_labels, y_pred_labels)\n",
        "f1 = f1_score(y_test_labels, y_pred_labels)\n",
        "\n",
        "print(f'Precision: {precision}')\n",
        "print(f'Recall: {recall}')\n",
        "print(f'F1 Score: {f1}')\n",
        "print('----------------------------------------------')"
      ]
    }
  ],
  "metadata": {
    "accelerator": "GPU",
    "colab": {
      "gpuType": "T4",
      "provenance": []
    },
    "kernelspec": {
      "display_name": "Python 3",
      "name": "python3"
    },
    "language_info": {
      "name": "python"
    }
  },
  "nbformat": 4,
  "nbformat_minor": 0
}
