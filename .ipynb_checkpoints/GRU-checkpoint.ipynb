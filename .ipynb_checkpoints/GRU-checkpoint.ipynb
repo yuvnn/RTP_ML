{
  "nbformat": 4,
  "nbformat_minor": 0,
  "metadata": {
    "colab": {
      "provenance": [],
      "gpuType": "T4"
    },
    "kernelspec": {
      "name": "python3",
      "display_name": "Python 3"
    },
    "language_info": {
      "name": "python"
    },
    "accelerator": "GPU"
  },
  "cells": [
    {
      "cell_type": "code",
      "source": [
        "import numpy as np\n",
        "import pandas as pd\n",
        "import os\n",
        "from sklearn.model_selection import train_test_split\n",
        "from tensorflow.keras.preprocessing.sequence import pad_sequences\n",
        "from tensorflow.keras.utils import to_categorical\n",
        "from tensorflow.keras.models import Sequential\n",
        "from tensorflow.keras.layers import Embedding, GRU, Dense\n",
        "from tensorflow.keras.preprocessing.text import Tokenizer\n",
        "from sklearn.metrics import confusion_matrix\n",
        "import seaborn as sns\n",
        "import matplotlib.pyplot as plt\n",
        "\n",
        "# 데이터셋 로드\n",
        "data_path = f'{os.getcwd()}/preprocessing.csv'\n",
        "data = pd.read_csv(data_path)\n",
        "\n",
        "# 불필요한 열 제거\n",
        "data = data.drop(columns=['Unnamed: 0'])\n",
        "\n",
        "# 데이터 전처리\n",
        "data['grid_path'] = data['grid_path'].apply(lambda x: x.strip(\"[]\").replace(\"'\", \"\").replace(\" \", \"\").split(','))\n",
        "\n",
        "# 격자 경로를 숫자 값으로 변환하기 위한 토크나이저 생성\n",
        "tokenizer = Tokenizer(char_level=True)  # 문자 단위 토크나이저\n",
        "tokenizer.fit_on_texts(data['grid_path'])\n",
        "sequences = tokenizer.texts_to_sequences(data['grid_path'])\n",
        "\n",
        "# 시퀀스 패딩\n",
        "max_sequence_length = max(len(seq) for seq in sequences)\n",
        "X = pad_sequences(sequences, maxlen=max_sequence_length, padding='post')\n",
        "\n",
        "# 라벨 인코딩\n",
        "data['label'] = data['F1'].map({'N': 0, 'AN': 1})  # 비정상 경로가 'AN'인 경우\n",
        "y = data['label'].values\n",
        "y = to_categorical(y)  # 원-핫 인코딩\n",
        "\n",
        "# 훈련/테스트 데이터 분할\n",
        "X_train, X_test, y_train, y_test = train_test_split(X, y, test_size=0.2, random_state=42)"
      ],
      "metadata": {
        "colab": {
          "base_uri": "https://localhost:8080/",
          "height": 1000
        },
        "id": "u42ddy0Qaqj7",
        "outputId": "63d4579a-f55b-445a-fe25-31298bbc54ac"
      },
      "execution_count": null,
      "outputs": [
        {
          "output_type": "stream",
          "name": "stdout",
          "text": [
            "Epoch 1/15\n",
            "10/10 [==============================] - 6s 349ms/step - loss: 0.6458 - accuracy: 0.8651 - val_loss: 0.5699 - val_accuracy: 0.8904\n",
            "Epoch 2/15\n",
            "10/10 [==============================] - 1s 140ms/step - loss: 0.5457 - accuracy: 0.8651 - val_loss: 0.4465 - val_accuracy: 0.8904\n",
            "Epoch 3/15\n",
            "10/10 [==============================] - 1s 120ms/step - loss: 0.4151 - accuracy: 0.8651 - val_loss: 0.3713 - val_accuracy: 0.8904\n",
            "Epoch 4/15\n",
            "10/10 [==============================] - 1s 83ms/step - loss: 0.4282 - accuracy: 0.8651 - val_loss: 0.3465 - val_accuracy: 0.8904\n",
            "Epoch 5/15\n",
            "10/10 [==============================] - 1s 101ms/step - loss: 0.4015 - accuracy: 0.8651 - val_loss: 0.3666 - val_accuracy: 0.8904\n",
            "Epoch 6/15\n",
            "10/10 [==============================] - 1s 90ms/step - loss: 0.3959 - accuracy: 0.8651 - val_loss: 0.3479 - val_accuracy: 0.8904\n",
            "Epoch 7/15\n",
            "10/10 [==============================] - 0s 46ms/step - loss: 0.3918 - accuracy: 0.8651 - val_loss: 0.3457 - val_accuracy: 0.8904\n",
            "Epoch 8/15\n",
            "10/10 [==============================] - 0s 49ms/step - loss: 0.3949 - accuracy: 0.8685 - val_loss: 0.3458 - val_accuracy: 0.8904\n",
            "Epoch 9/15\n",
            "10/10 [==============================] - 1s 77ms/step - loss: 0.3948 - accuracy: 0.8685 - val_loss: 0.3457 - val_accuracy: 0.8904\n",
            "Epoch 10/15\n",
            "10/10 [==============================] - 1s 90ms/step - loss: 0.3917 - accuracy: 0.8685 - val_loss: 0.3480 - val_accuracy: 0.8904\n",
            "Epoch 11/15\n",
            "10/10 [==============================] - 1s 79ms/step - loss: 0.3906 - accuracy: 0.8685 - val_loss: 0.3468 - val_accuracy: 0.8904\n",
            "Epoch 12/15\n",
            "10/10 [==============================] - 1s 86ms/step - loss: 0.3927 - accuracy: 0.8685 - val_loss: 0.3466 - val_accuracy: 0.8904\n",
            "Epoch 13/15\n",
            "10/10 [==============================] - 1s 103ms/step - loss: 0.3922 - accuracy: 0.8685 - val_loss: 0.3457 - val_accuracy: 0.8904\n",
            "Epoch 14/15\n",
            "10/10 [==============================] - 1s 75ms/step - loss: 0.3960 - accuracy: 0.8685 - val_loss: 0.3458 - val_accuracy: 0.8904\n",
            "Epoch 15/15\n",
            "10/10 [==============================] - 1s 120ms/step - loss: 0.3905 - accuracy: 0.8685 - val_loss: 0.3524 - val_accuracy: 0.8904\n",
            "3/3 [==============================] - 0s 29ms/step - loss: 0.3720 - accuracy: 0.8791\n",
            "테스트 정확도: 0.8791208863258362\n",
            "----------------------------------------------\n",
            "3/3 [==============================] - 1s 21ms/step\n"
          ]
        },
        {
          "output_type": "display_data",
          "data": {
            "text/plain": [
              "<Figure size 1000x700 with 2 Axes>"
            ],
            "image/png": "[encoded data removed]"
          },
          "metadata": {}
        },
        {
          "output_type": "stream",
          "name": "stdout",
          "text": [
            "1/1 [==============================] - 0s 35ms/step\n",
            "입력 시퀀스: [[1]]\n",
            "패딩된 시퀀스: [[1 0 0 0 0 0 0 0 0 0 0 0 0 0 0 0 0 0 0 0 0 0 0 0 0 0 0 0 0 0 0 0 0 0 0 0\n",
            "  0 0 0 0 0 0 0 0 0 0 0 0 0 0 0 0 0 0 0 0 0 0 0 0 0 0 0 0 0 0 0 0 0 0 0 0\n",
            "  0 0 0 0 0 0 0 0 0 0 0 0 0 0]]\n",
            "예측된 클래스: [0]\n",
            "클래스 확률: [0.9701325  0.02986743]\n"
          ]
        }
      ]
    },
    {
      "cell_type": "code",
      "source": [
        "# 모델 생성\n",
        "model = Sequential([\n",
        "    Embedding(input_dim=len(tokenizer.word_index) + 1, output_dim=64, input_length=max_sequence_length),  # 임베딩 레이어\n",
        "    GRU(64, return_sequences=False),  # GRU레이어\n",
        "    Dense(2, activation='softmax'),  # Dense 레이어(출력층)\n",
        "])\n",
        "\n",
        "model.compile(loss='binary_crossentropy', optimizer='adam', metrics=['accuracy'])\n",
        "\n",
        "# 모델 훈련\n",
        "history = model.fit(X_train, y_train, epochs=15, validation_split=0.2, batch_size=32)\n",
        "\n",
        "# 모델 평가\n",
        "loss, accuracy = model.evaluate(X_test, y_test)\n",
        "print(f'테스트 정확도: {accuracy}')\n",
        "print('----------------------------------------------')"
      ],
      "metadata": {
        "id": "vx8k3bfseuF2"
      },
      "execution_count": null,
      "outputs": []
    },
    {
      "cell_type": "markdown",
      "source": [
        "# 모델 2"
      ],
      "metadata": {
        "id": "id2yVC95fn86"
      }
    },
    {
      "cell_type": "code",
      "source": [
        "# 모델 생성\n",
        "model = Sequential([\n",
        "    Embedding(input_dim=len(tokenizer.word_index) + 1, output_dim=64, input_length=max_sequence_length),  # 임베딩 레이어\n",
        "    GRU(128, return_sequences=True),  # GRU 레이어\n",
        "    GRU(64, return_sequences=False),  # GRU 레이어\n",
        "    Dense(2, activation='softmax'),  # Dense 레이어(출력층)\n",
        "])\n",
        "\n",
        "model.compile(loss='binary_crossentropy', optimizer='adam', metrics=['accuracy'])\n",
        "\n",
        "# 모델 훈련\n",
        "history = model.fit(X_train, y_train, epochs=15, validation_split=0.2, batch_size=32)\n",
        "\n",
        "# 모델 평가\n",
        "loss, accuracy = model.evaluate(X_test, y_test)\n",
        "print(f'테스트 정확도: {accuracy}')\n",
        "print('----------------------------------------------')"
      ],
      "metadata": {
        "colab": {
          "base_uri": "https://localhost:8080/"
        },
        "id": "COMTLUPdfmnq",
        "outputId": "46b7a791-a410-4e80-8869-e82c47042abf"
      },
      "execution_count": null,
      "outputs": [
        {
          "output_type": "stream",
          "name": "stdout",
          "text": [
            "Epoch 1/15\n",
            "10/10 [==============================] - 6s 284ms/step - loss: 0.5743 - accuracy: 0.8651 - val_loss: 0.3475 - val_accuracy: 0.8904\n",
            "Epoch 2/15\n",
            "10/10 [==============================] - 2s 203ms/step - loss: 0.4126 - accuracy: 0.8651 - val_loss: 0.3467 - val_accuracy: 0.8904\n",
            "Epoch 3/15\n",
            "10/10 [==============================] - 1s 133ms/step - loss: 0.3962 - accuracy: 0.8651 - val_loss: 0.3536 - val_accuracy: 0.8904\n",
            "Epoch 4/15\n",
            "10/10 [==============================] - 1s 144ms/step - loss: 0.4021 - accuracy: 0.8651 - val_loss: 0.3457 - val_accuracy: 0.8904\n",
            "Epoch 5/15\n",
            "10/10 [==============================] - 2s 179ms/step - loss: 0.3940 - accuracy: 0.8651 - val_loss: 0.3491 - val_accuracy: 0.8904\n",
            "Epoch 6/15\n",
            "10/10 [==============================] - 2s 220ms/step - loss: 0.3943 - accuracy: 0.8651 - val_loss: 0.3465 - val_accuracy: 0.8904\n",
            "Epoch 7/15\n",
            "10/10 [==============================] - 2s 236ms/step - loss: 0.3929 - accuracy: 0.8651 - val_loss: 0.3473 - val_accuracy: 0.8904\n",
            "Epoch 8/15\n",
            "10/10 [==============================] - 3s 289ms/step - loss: 0.3918 - accuracy: 0.8651 - val_loss: 0.3533 - val_accuracy: 0.8904\n",
            "Epoch 9/15\n",
            "10/10 [==============================] - 2s 190ms/step - loss: 0.4227 - accuracy: 0.8685 - val_loss: 0.4064 - val_accuracy: 0.8904\n",
            "Epoch 10/15\n",
            "10/10 [==============================] - 1s 128ms/step - loss: 0.4126 - accuracy: 0.8685 - val_loss: 0.3538 - val_accuracy: 0.8904\n",
            "Epoch 11/15\n",
            "10/10 [==============================] - 1s 132ms/step - loss: 0.4003 - accuracy: 0.8685 - val_loss: 0.3672 - val_accuracy: 0.8904\n",
            "Epoch 12/15\n",
            "10/10 [==============================] - 1s 124ms/step - loss: 0.4007 - accuracy: 0.8685 - val_loss: 0.3462 - val_accuracy: 0.8904\n",
            "Epoch 13/15\n",
            "10/10 [==============================] - 1s 124ms/step - loss: 0.3978 - accuracy: 0.8685 - val_loss: 0.3458 - val_accuracy: 0.8904\n",
            "Epoch 14/15\n",
            "10/10 [==============================] - 1s 136ms/step - loss: 0.3927 - accuracy: 0.8685 - val_loss: 0.3478 - val_accuracy: 0.8904\n",
            "Epoch 15/15\n",
            "10/10 [==============================] - 1s 130ms/step - loss: 0.3912 - accuracy: 0.8685 - val_loss: 0.3474 - val_accuracy: 0.8904\n",
            "3/3 [==============================] - 0s 48ms/step - loss: 0.3690 - accuracy: 0.8791\n",
            "테스트 정확도: 0.8791208863258362\n",
            "----------------------------------------------\n"
          ]
        }
      ]
    },
    {
      "cell_type": "markdown",
      "source": [
        "# 모델 3"
      ],
      "metadata": {
        "id": "l5IHPti3gqLu"
      }
    },
    {
      "cell_type": "code",
      "source": [
        "# 모델 생성\n",
        "model = Sequential([\n",
        "    Embedding(input_dim=len(tokenizer.word_index) + 1, output_dim=64, input_length=max_sequence_length),  # 임베딩 레이어\n",
        "    GRU(128, return_sequences=True),  # GRU 레이어\n",
        "    GRU(64, return_sequences=False),  # GRU 레이어\n",
        "    Dense(2, activation='softmax'),  # Dense 레이어(출력층)\n",
        "])\n",
        "\n",
        "model.compile(loss='binary_crossentropy', optimizer='adam', metrics=['accuracy'])\n",
        "\n",
        "# 모델 훈련\n",
        "history = model.fit(X_train, y_train, epochs=15, validation_split=0.2, batch_size=16)\n",
        "\n",
        "# 모델 평가\n",
        "loss, accuracy = model.evaluate(X_test, y_test)\n",
        "print(f'테스트 정확도: {accuracy}')\n",
        "print('----------------------------------------------')"
      ],
      "metadata": {
        "colab": {
          "base_uri": "https://localhost:8080/"
        },
        "id": "eO2YGcIAgr8G",
        "outputId": "463d22a3-c5b4-4978-92bf-e05bcd78befb"
      },
      "execution_count": null,
      "outputs": [
        {
          "output_type": "stream",
          "name": "stdout",
          "text": [
            "Epoch 1/15\n",
            "19/19 [==============================] - 10s 144ms/step - loss: 0.5110 - accuracy: 0.8166 - val_loss: 0.3522 - val_accuracy: 0.8904\n",
            "Epoch 2/15\n",
            "19/19 [==============================] - 2s 95ms/step - loss: 0.4043 - accuracy: 0.8651 - val_loss: 0.3574 - val_accuracy: 0.8904\n",
            "Epoch 3/15\n",
            "19/19 [==============================] - 2s 94ms/step - loss: 0.4076 - accuracy: 0.8651 - val_loss: 0.3469 - val_accuracy: 0.8904\n",
            "Epoch 4/15\n",
            "19/19 [==============================] - 2s 95ms/step - loss: 0.4021 - accuracy: 0.8651 - val_loss: 0.3495 - val_accuracy: 0.8904\n",
            "Epoch 5/15\n",
            "19/19 [==============================] - 3s 145ms/step - loss: 0.3992 - accuracy: 0.8651 - val_loss: 0.3482 - val_accuracy: 0.8904\n",
            "Epoch 6/15\n",
            "19/19 [==============================] - 2s 111ms/step - loss: 0.3971 - accuracy: 0.8651 - val_loss: 0.3492 - val_accuracy: 0.8904\n",
            "Epoch 7/15\n",
            "19/19 [==============================] - 2s 94ms/step - loss: 0.3972 - accuracy: 0.8651 - val_loss: 0.3504 - val_accuracy: 0.8904\n",
            "Epoch 8/15\n",
            "19/19 [==============================] - 2s 92ms/step - loss: 0.4279 - accuracy: 0.8685 - val_loss: 0.3837 - val_accuracy: 0.8904\n",
            "Epoch 9/15\n",
            "19/19 [==============================] - 2s 92ms/step - loss: 0.4114 - accuracy: 0.8685 - val_loss: 0.3517 - val_accuracy: 0.8904\n",
            "Epoch 10/15\n",
            "19/19 [==============================] - 2s 96ms/step - loss: 0.4082 - accuracy: 0.8685 - val_loss: 0.3626 - val_accuracy: 0.8904\n",
            "Epoch 11/15\n",
            "19/19 [==============================] - 2s 96ms/step - loss: 0.4039 - accuracy: 0.8685 - val_loss: 0.3463 - val_accuracy: 0.8904\n",
            "Epoch 12/15\n",
            "19/19 [==============================] - 3s 160ms/step - loss: 0.3905 - accuracy: 0.8685 - val_loss: 0.3520 - val_accuracy: 0.8904\n",
            "Epoch 13/15\n",
            "19/19 [==============================] - 2s 98ms/step - loss: 0.4192 - accuracy: 0.8685 - val_loss: 0.3667 - val_accuracy: 0.8904\n",
            "Epoch 14/15\n",
            "19/19 [==============================] - 2s 94ms/step - loss: 0.3888 - accuracy: 0.8685 - val_loss: 0.3457 - val_accuracy: 0.8904\n",
            "Epoch 15/15\n",
            "19/19 [==============================] - 2s 92ms/step - loss: 0.4020 - accuracy: 0.8685 - val_loss: 0.3480 - val_accuracy: 0.8904\n",
            "3/3 [==============================] - 0s 31ms/step - loss: 0.3693 - accuracy: 0.8791\n",
            "테스트 정확도: 0.8791208863258362\n",
            "----------------------------------------------\n"
          ]
        }
      ]
    },
    {
      "cell_type": "markdown",
      "source": [
        "# 모델 4"
      ],
      "metadata": {
        "id": "gDHKACgbhpA1"
      }
    },
    {
      "cell_type": "code",
      "source": [
        "# 모델 생성\n",
        "model = Sequential([\n",
        "    Embedding(input_dim=len(tokenizer.word_index) + 1, output_dim=100, input_length=max_sequence_length),  # 임베딩 레이어\n",
        "    GRU(128, return_sequences=True),  # GRU 레이어\n",
        "    GRU(64, return_sequences=False),  # GRU 레이어\n",
        "    Dense(2, activation='softmax'),  # Dense 레이어(출력층)\n",
        "])\n",
        "\n",
        "model.compile(loss='binary_crossentropy', optimizer='adam', metrics=['accuracy'])\n",
        "\n",
        "# 모델 훈련\n",
        "history = model.fit(X_train, y_train, epochs=15, validation_split=0.2, batch_size=32)\n",
        "\n",
        "# 모델 평가\n",
        "loss, accuracy = model.evaluate(X_test, y_test)\n",
        "print(f'테스트 정확도: {accuracy}')\n",
        "print('----------------------------------------------')"
      ],
      "metadata": {
        "colab": {
          "base_uri": "https://localhost:8080/"
        },
        "id": "q64sqXXUhq8V",
        "outputId": "f22f4a44-85b3-4166-d746-feabe15aaa6e"
      },
      "execution_count": null,
      "outputs": [
        {
          "output_type": "stream",
          "name": "stdout",
          "text": [
            "Epoch 1/15\n",
            "10/10 [==============================] - 7s 324ms/step - loss: 0.5860 - accuracy: 0.8651 - val_loss: 0.3630 - val_accuracy: 0.8904\n",
            "Epoch 2/15\n",
            "10/10 [==============================] - 1s 128ms/step - loss: 0.4029 - accuracy: 0.8651 - val_loss: 0.3492 - val_accuracy: 0.8904\n",
            "Epoch 3/15\n",
            "10/10 [==============================] - 1s 137ms/step - loss: 0.3975 - accuracy: 0.8651 - val_loss: 0.3479 - val_accuracy: 0.8904\n",
            "Epoch 4/15\n",
            "10/10 [==============================] - 1s 132ms/step - loss: 0.3933 - accuracy: 0.8651 - val_loss: 0.3494 - val_accuracy: 0.8904\n",
            "Epoch 5/15\n",
            "10/10 [==============================] - 1s 134ms/step - loss: 0.3925 - accuracy: 0.8651 - val_loss: 0.3460 - val_accuracy: 0.8904\n",
            "Epoch 6/15\n",
            "10/10 [==============================] - 1s 132ms/step - loss: 0.3947 - accuracy: 0.8651 - val_loss: 0.3460 - val_accuracy: 0.8904\n",
            "Epoch 7/15\n",
            "10/10 [==============================] - 1s 124ms/step - loss: 0.3923 - accuracy: 0.8685 - val_loss: 0.3467 - val_accuracy: 0.8904\n",
            "Epoch 8/15\n",
            "10/10 [==============================] - 1s 130ms/step - loss: 0.3920 - accuracy: 0.8685 - val_loss: 0.3457 - val_accuracy: 0.8904\n",
            "Epoch 9/15\n",
            "10/10 [==============================] - 2s 223ms/step - loss: 0.3945 - accuracy: 0.8685 - val_loss: 0.3470 - val_accuracy: 0.8904\n",
            "Epoch 10/15\n",
            "10/10 [==============================] - 2s 177ms/step - loss: 0.3938 - accuracy: 0.8685 - val_loss: 0.3457 - val_accuracy: 0.8904\n",
            "Epoch 11/15\n",
            "10/10 [==============================] - 1s 135ms/step - loss: 0.3919 - accuracy: 0.8685 - val_loss: 0.3476 - val_accuracy: 0.8904\n",
            "Epoch 12/15\n",
            "10/10 [==============================] - 1s 124ms/step - loss: 0.3907 - accuracy: 0.8685 - val_loss: 0.3543 - val_accuracy: 0.8904\n",
            "Epoch 13/15\n",
            "10/10 [==============================] - 1s 126ms/step - loss: 0.4216 - accuracy: 0.8685 - val_loss: 0.4129 - val_accuracy: 0.8904\n",
            "Epoch 14/15\n",
            "10/10 [==============================] - 1s 136ms/step - loss: 0.4088 - accuracy: 0.8685 - val_loss: 0.3529 - val_accuracy: 0.8904\n",
            "Epoch 15/15\n",
            "10/10 [==============================] - 1s 134ms/step - loss: 0.3942 - accuracy: 0.8685 - val_loss: 0.3603 - val_accuracy: 0.8904\n",
            "3/3 [==============================] - 0s 31ms/step - loss: 0.3782 - accuracy: 0.8791\n",
            "테스트 정확도: 0.8791208863258362\n",
            "----------------------------------------------\n"
          ]
        }
      ]
    },
    {
      "cell_type": "markdown",
      "source": [
        "# 모델 5"
      ],
      "metadata": {
        "id": "7i60jA4kiaW3"
      }
    },
    {
      "cell_type": "code",
      "source": [
        "# 모델 생성\n",
        "model = Sequential([\n",
        "    Embedding(input_dim=len(tokenizer.word_index) + 1, output_dim=100, input_length=max_sequence_length),  # 임베딩 레이어\n",
        "    GRU(128, return_sequences=True),  # GRU 레이어\n",
        "    GRU(64, return_sequences=False),  # GRU 레이어\n",
        "    Dense(2, activation='softmax'),  # Dense 레이어(출력층)\n",
        "])\n",
        "\n",
        "model.compile(loss='binary_crossentropy', optimizer='adam', metrics=['accuracy'])\n",
        "\n",
        "# 모델 훈련\n",
        "history = model.fit(X_train, y_train, epochs=25, validation_split=0.2, batch_size=32)\n",
        "\n",
        "# 모델 평가\n",
        "loss, accuracy = model.evaluate(X_test, y_test)\n",
        "print(f'테스트 정확도: {accuracy}')\n",
        "print('----------------------------------------------')"
      ],
      "metadata": {
        "colab": {
          "base_uri": "https://localhost:8080/"
        },
        "id": "7hjsq0epicQx",
        "outputId": "cbb81b4d-037b-4a26-9114-c821c4dea5b9"
      },
      "execution_count": null,
      "outputs": [
        {
          "output_type": "stream",
          "name": "stdout",
          "text": [
            "Epoch 1/25\n",
            "10/10 [==============================] - 8s 252ms/step - loss: 0.5463 - accuracy: 0.8651 - val_loss: 0.3483 - val_accuracy: 0.8904\n",
            "Epoch 2/25\n",
            "10/10 [==============================] - 1s 145ms/step - loss: 0.4354 - accuracy: 0.8651 - val_loss: 0.3492 - val_accuracy: 0.8904\n",
            "Epoch 3/25\n",
            "10/10 [==============================] - 1s 145ms/step - loss: 0.3942 - accuracy: 0.8651 - val_loss: 0.3608 - val_accuracy: 0.8904\n",
            "Epoch 4/25\n",
            "10/10 [==============================] - 1s 143ms/step - loss: 0.4118 - accuracy: 0.8651 - val_loss: 0.3874 - val_accuracy: 0.8904\n",
            "Epoch 5/25\n",
            "10/10 [==============================] - 1s 144ms/step - loss: 0.4078 - accuracy: 0.8651 - val_loss: 0.3467 - val_accuracy: 0.8904\n",
            "Epoch 6/25\n",
            "10/10 [==============================] - 1s 145ms/step - loss: 0.3941 - accuracy: 0.8651 - val_loss: 0.3460 - val_accuracy: 0.8904\n",
            "Epoch 7/25\n",
            "10/10 [==============================] - 2s 201ms/step - loss: 0.3987 - accuracy: 0.8651 - val_loss: 0.3488 - val_accuracy: 0.8904\n",
            "Epoch 8/25\n",
            "10/10 [==============================] - 2s 251ms/step - loss: 0.4127 - accuracy: 0.8685 - val_loss: 0.4071 - val_accuracy: 0.8904\n",
            "Epoch 9/25\n",
            "10/10 [==============================] - 1s 142ms/step - loss: 0.4187 - accuracy: 0.8685 - val_loss: 0.3605 - val_accuracy: 0.8904\n",
            "Epoch 10/25\n",
            "10/10 [==============================] - 1s 146ms/step - loss: 0.3948 - accuracy: 0.8685 - val_loss: 0.3469 - val_accuracy: 0.8904\n",
            "Epoch 11/25\n",
            "10/10 [==============================] - 1s 137ms/step - loss: 0.3986 - accuracy: 0.8685 - val_loss: 0.3464 - val_accuracy: 0.8904\n",
            "Epoch 12/25\n",
            "10/10 [==============================] - 1s 144ms/step - loss: 0.4041 - accuracy: 0.8685 - val_loss: 0.3916 - val_accuracy: 0.8904\n",
            "Epoch 13/25\n",
            "10/10 [==============================] - 1s 143ms/step - loss: 0.4123 - accuracy: 0.8685 - val_loss: 0.3599 - val_accuracy: 0.8904\n",
            "Epoch 14/25\n",
            "10/10 [==============================] - 1s 135ms/step - loss: 0.3911 - accuracy: 0.8685 - val_loss: 0.3458 - val_accuracy: 0.8904\n",
            "Epoch 15/25\n",
            "10/10 [==============================] - 1s 140ms/step - loss: 0.4002 - accuracy: 0.8685 - val_loss: 0.3468 - val_accuracy: 0.8904\n",
            "Epoch 16/25\n",
            "10/10 [==============================] - 2s 236ms/step - loss: 0.3978 - accuracy: 0.8685 - val_loss: 0.3528 - val_accuracy: 0.8904\n",
            "Epoch 17/25\n",
            "10/10 [==============================] - 2s 207ms/step - loss: 0.4057 - accuracy: 0.8685 - val_loss: 0.3830 - val_accuracy: 0.8904\n",
            "Epoch 18/25\n",
            "10/10 [==============================] - 1s 147ms/step - loss: 0.4038 - accuracy: 0.8685 - val_loss: 0.3549 - val_accuracy: 0.8904\n",
            "Epoch 19/25\n",
            "10/10 [==============================] - 1s 145ms/step - loss: 0.3906 - accuracy: 0.8685 - val_loss: 0.3457 - val_accuracy: 0.8904\n",
            "Epoch 20/25\n",
            "10/10 [==============================] - 1s 142ms/step - loss: 0.3941 - accuracy: 0.8685 - val_loss: 0.3463 - val_accuracy: 0.8904\n",
            "Epoch 21/25\n",
            "10/10 [==============================] - 1s 140ms/step - loss: 0.3997 - accuracy: 0.8685 - val_loss: 0.3772 - val_accuracy: 0.8904\n",
            "Epoch 22/25\n",
            "10/10 [==============================] - 1s 140ms/step - loss: 0.4030 - accuracy: 0.8685 - val_loss: 0.3568 - val_accuracy: 0.8904\n",
            "Epoch 23/25\n",
            "10/10 [==============================] - 1s 132ms/step - loss: 0.3887 - accuracy: 0.8685 - val_loss: 0.3465 - val_accuracy: 0.8904\n",
            "Epoch 24/25\n",
            "10/10 [==============================] - 2s 155ms/step - loss: 0.3947 - accuracy: 0.8685 - val_loss: 0.3464 - val_accuracy: 0.8904\n",
            "Epoch 25/25\n",
            "10/10 [==============================] - 3s 255ms/step - loss: 0.3958 - accuracy: 0.8685 - val_loss: 0.3463 - val_accuracy: 0.8904\n",
            "3/3 [==============================] - 0s 34ms/step - loss: 0.3687 - accuracy: 0.8791\n",
            "테스트 정확도: 0.8791208863258362\n",
            "----------------------------------------------\n"
          ]
        }
      ]
    },
    {
      "cell_type": "code",
      "source": [
        "# Confusion Matrix 계산\n",
        "y_test_labels = np.argmax(y_test, axis=1)  # 원-핫 인코딩을 정수 라벨로 변환\n",
        "y_pred_prob = model.predict(X_test)\n",
        "y_pred_labels = np.argmax(y_pred_prob, axis=1)  # 예측 확률을 정수 라벨로 변환\n",
        "\n",
        "conf_matrix = confusion_matrix(y_test_labels, y_pred_labels)\n",
        "\n",
        "# Confusion Matrix 출력\n",
        "plt.figure(figsize=(10, 7))\n",
        "sns.heatmap(conf_matrix, annot=True, fmt='d', cmap='Blues', xticklabels=['N', 'AN'], yticklabels=['N', 'AN'])\n",
        "plt.xlabel('Predicted')\n",
        "plt.ylabel('Actual')\n",
        "plt.title('Confusion Matrix')\n",
        "plt.show()"
      ],
      "metadata": {
        "colab": {
          "base_uri": "https://localhost:8080/",
          "height": 659
        },
        "id": "dXRF3uwIehiz",
        "outputId": "a93e882d-1dac-46f6-a023-faf196abffb1"
      },
      "execution_count": null,
      "outputs": [
        {
          "output_type": "stream",
          "name": "stdout",
          "text": [
            "3/3 [==============================] - 1s 31ms/step\n"
          ]
        },
        {
          "output_type": "display_data",
          "data": {
            "text/plain": [
              "<Figure size 1000x700 with 2 Axes>"
            ],
            "image/png": "[encoded data removed]"
          },
          "metadata": {}
        }
      ]
    },
    {
      "cell_type": "code",
      "source": [
        "# 데이터셋에서 일부 입력 텍스트를 가져와서 예측 수행\n",
        "example_text = data['grid_path'][275]  # 데이터셋에서 샘플을 사용\n",
        "input_sequence = tokenizer.texts_to_sequences([example_text])\n",
        "input_padded = pad_sequences(input_sequence, maxlen=max_sequence_length, padding='post')\n",
        "\n",
        "# 모델을 사용하여 예측 수행\n",
        "predictions = model.predict(input_padded)\n",
        "\n",
        "# 예측 결과를 해석\n",
        "predicted_class = np.argmax(predictions, axis=1)\n",
        "predicted_probabilities = predictions[0]\n",
        "\n",
        "print(f\"입력 시퀀스: {input_sequence}\")\n",
        "print(f\"패딩된 시퀀스: {input_padded}\")\n",
        "print(f\"예측된 클래스: {predicted_class}\")\n",
        "print(f\"클래스 확률: {predicted_probabilities}\")"
      ],
      "metadata": {
        "colab": {
          "base_uri": "https://localhost:8080/"
        },
        "id": "IdCdBYmSefBH",
        "outputId": "1ab90435-bcbd-4e6c-c71e-363e43c35527"
      },
      "execution_count": null,
      "outputs": [
        {
          "output_type": "stream",
          "name": "stdout",
          "text": [
            "1/1 [==============================] - 0s 37ms/step\n",
            "입력 시퀀스: [[1]]\n",
            "패딩된 시퀀스: [[1 0 0 0 0 0 0 0 0 0 0 0 0 0 0 0 0 0 0 0 0 0 0 0 0 0 0 0 0 0 0 0 0 0 0 0\n",
            "  0 0 0 0 0 0 0 0 0 0 0 0 0 0 0 0 0 0 0 0 0 0 0 0 0 0 0 0 0 0 0 0 0 0 0 0\n",
            "  0 0 0 0 0 0 0 0 0 0 0 0 0 0]]\n",
            "예측된 클래스: [0]\n",
            "클래스 확률: [0.9816382 0.0183618]\n"
          ]
        }
      ]
    },
    {
      "cell_type": "code",
      "source": [
        "# 모델 생성\n",
        "model = Sequential([\n",
        "    Embedding(input_dim=len(tokenizer.word_index) + 1, output_dim=100, input_length=max_sequence_length),\n",
        "    GRU(128, return_sequences=True),  # GRU 레이어\n",
        "    GRU(64, return_sequences=False),  # GRU 레이어\n",
        "    Dense(2, activation='softmax'),  # Dense 레이어(출력층)\n",
        "])\n",
        "\n",
        "model.compile(loss='binary_crossentropy', optimizer='adam', metrics=['accuracy'])\n",
        "\n",
        "# 모델 훈련\n",
        "history = model.fit(X_train, y_train, epochs=15, validation_split=0.2, batch_size=4)\n",
        "\n",
        "# 모델 평가\n",
        "loss, accuracy = model.evaluate(X_test, y_test)\n",
        "print(f'테스트 정확도: {accuracy}')\n",
        "print('----------------------------------------------')"
      ],
      "metadata": {
        "colab": {
          "base_uri": "https://localhost:8080/"
        },
        "id": "w8Prf3Uugxvo",
        "outputId": "001b34cb-47e0-4557-83bc-b9e30e0a2847"
      },
      "execution_count": null,
      "outputs": [
        {
          "output_type": "stream",
          "name": "stdout",
          "text": [
            "Epoch 1/15\n",
            "73/73 [==============================] - 22s 236ms/step - loss: 0.4482 - accuracy: 0.8512 - val_loss: 0.3462 - val_accuracy: 0.8904\n",
            "Epoch 2/15\n",
            "73/73 [==============================] - 12s 159ms/step - loss: 0.3935 - accuracy: 0.8651 - val_loss: 0.3710 - val_accuracy: 0.8904\n",
            "Epoch 3/15\n",
            "73/73 [==============================] - 12s 160ms/step - loss: 0.4037 - accuracy: 0.8651 - val_loss: 0.3653 - val_accuracy: 0.8904\n",
            "Epoch 4/15\n",
            "73/73 [==============================] - 7s 92ms/step - loss: 0.4062 - accuracy: 0.8685 - val_loss: 0.3520 - val_accuracy: 0.8904\n",
            "Epoch 5/15\n",
            "73/73 [==============================] - 8s 114ms/step - loss: 0.3961 - accuracy: 0.8685 - val_loss: 0.3476 - val_accuracy: 0.8904\n",
            "Epoch 6/15\n",
            "73/73 [==============================] - 7s 92ms/step - loss: 0.3977 - accuracy: 0.8685 - val_loss: 0.3606 - val_accuracy: 0.8904\n",
            "Epoch 7/15\n",
            "73/73 [==============================] - 8s 116ms/step - loss: 0.4011 - accuracy: 0.8685 - val_loss: 0.3503 - val_accuracy: 0.8904\n",
            "Epoch 8/15\n",
            "73/73 [==============================] - 7s 93ms/step - loss: 0.3911 - accuracy: 0.8685 - val_loss: 0.3557 - val_accuracy: 0.8904\n",
            "Epoch 9/15\n",
            "73/73 [==============================] - 8s 112ms/step - loss: 0.4008 - accuracy: 0.8685 - val_loss: 0.3536 - val_accuracy: 0.8904\n",
            "Epoch 10/15\n",
            "73/73 [==============================] - 7s 100ms/step - loss: 0.3918 - accuracy: 0.8685 - val_loss: 0.3456 - val_accuracy: 0.8904\n",
            "Epoch 11/15\n",
            "73/73 [==============================] - 8s 106ms/step - loss: 0.3942 - accuracy: 0.8685 - val_loss: 0.3085 - val_accuracy: 0.8904\n",
            "Epoch 12/15\n",
            "73/73 [==============================] - 8s 112ms/step - loss: 0.2594 - accuracy: 0.9031 - val_loss: 0.1590 - val_accuracy: 0.9589\n",
            "Epoch 13/15\n",
            "73/73 [==============================] - 7s 94ms/step - loss: 0.0843 - accuracy: 0.9723 - val_loss: 0.1329 - val_accuracy: 0.9452\n",
            "Epoch 14/15\n",
            "73/73 [==============================] - 8s 112ms/step - loss: 0.0416 - accuracy: 0.9896 - val_loss: 0.1210 - val_accuracy: 0.9589\n",
            "Epoch 15/15\n",
            "73/73 [==============================] - 7s 94ms/step - loss: 0.0277 - accuracy: 0.9931 - val_loss: 0.1032 - val_accuracy: 0.9589\n",
            "3/3 [==============================] - 0s 42ms/step - loss: 0.1433 - accuracy: 0.9560\n",
            "테스트 정확도: 0.9560439586639404\n",
            "----------------------------------------------\n"
          ]
        }
      ]
    },
    {
      "cell_type": "code",
      "source": [
        "# F1 Score 계산\n",
        "y_test_labels = np.argmax(y_test, axis=1)  # 원-핫 인코딩을 정수 라벨로 변환\n",
        "y_pred_prob = model.predict(X_test)\n",
        "y_pred_labels = np.argmax(y_pred_prob, axis=1)  # 예측 확률을 정수 라벨로 변환\n",
        "\n",
        "precision = precision_score(y_test_labels, y_pred_labels)\n",
        "recall = recall_score(y_test_labels, y_pred_labels)\n",
        "f1 = f1_score(y_test_labels, y_pred_labels)\n",
        "\n",
        "print(f'Precision: {precision}')\n",
        "print(f'Recall: {recall}')\n",
        "print(f'F1 Score: {f1}')\n",
        "print('----------------------------------------------')"
      ],
      "metadata": {
        "colab": {
          "base_uri": "https://localhost:8080/"
        },
        "id": "Jh7QZL-K4FTt",
        "outputId": "53e13992-beb3-4703-eb8f-ade3c67baebb"
      },
      "execution_count": null,
      "outputs": [
        {
          "output_type": "stream",
          "name": "stdout",
          "text": [
            "3/3 [==============================] - 1s 40ms/step\n",
            "Precision: 0.7692307692307693\n",
            "Recall: 0.9090909090909091\n",
            "F1 Score: 0.8333333333333333\n",
            "----------------------------------------------\n"
          ]
        }
      ]
    },
    {
      "cell_type": "code",
      "source": [
        "# Confusion Matrix 계산\n",
        "y_test_labels = np.argmax(y_test, axis=1)  # 원-핫 인코딩을 정수 라벨로 변환\n",
        "y_pred_prob = model.predict(X_test)\n",
        "y_pred_labels = np.argmax(y_pred_prob, axis=1)  # 예측 확률을 정수 라벨로 변환\n",
        "\n",
        "conf_matrix = confusion_matrix(y_test_labels, y_pred_labels)\n",
        "\n",
        "# Confusion Matrix 출력\n",
        "plt.figure(figsize=(10, 7))\n",
        "sns.heatmap(conf_matrix, annot=True, fmt='d', cmap='Blues', xticklabels=['N', 'AN'], yticklabels=['N', 'AN'])\n",
        "plt.xlabel('Predicted')\n",
        "plt.ylabel('Actual')\n",
        "plt.title('Confusion Matrix')\n",
        "plt.show()"
      ],
      "metadata": {
        "colab": {
          "base_uri": "https://localhost:8080/",
          "height": 659
        },
        "id": "VDqSsdAvinuz",
        "outputId": "eb2caa74-847e-4b5f-b584-50cb3a71201d"
      },
      "execution_count": null,
      "outputs": [
        {
          "output_type": "stream",
          "name": "stdout",
          "text": [
            "3/3 [==============================] - 1s 33ms/step\n"
          ]
        },
        {
          "output_type": "display_data",
          "data": {
            "text/plain": [
              "<Figure size 1000x700 with 2 Axes>"
            ],
            "image/png": "[encoded data removed]"
          },
          "metadata": {}
        }
      ]
    },
    {
      "cell_type": "code",
      "source": [
        "# 모델 생성\n",
        "model = Sequential([\n",
        "    Embedding(input_dim=len(tokenizer.word_index) + 1, output_dim=64, input_length=max_sequence_length),\n",
        "    GRU(128,return_sequences=True),  # GRU 레이어\n",
        "    GRU(64, return_sequences=False),  # GRU 레이어\n",
        "    Dense(2, activation='softmax'),  # Dense 레이어(출력층)\n",
        "])\n",
        "\n",
        "model.compile(loss='binary_crossentropy', optimizer='adam', metrics=['accuracy'])\n",
        "\n",
        "# 모델 훈련\n",
        "history = model.fit(X_train, y_train, epochs=15, validation_split=0.2, batch_size=4)\n",
        "\n",
        "# 모델 평가\n",
        "loss, accuracy = model.evaluate(X_test, y_test)\n",
        "print(f'테스트 정확도: {accuracy}')\n",
        "print('----------------------------------------------')\n",
        "\n",
        "\n",
        "# Confusion Matrix 계산\n",
        "y_test_labels = np.argmax(y_test, axis=1)  # 원-핫 인코딩을 정수 라벨로 변환\n",
        "y_pred_prob = model.predict(X_test)\n",
        "y_pred_labels = np.argmax(y_pred_prob, axis=1)  # 예측 확률을 정수 라벨로 변환\n",
        "\n",
        "conf_matrix = confusion_matrix(y_test_labels, y_pred_labels)\n",
        "\n",
        "# Confusion Matrix 출력\n",
        "plt.figure(figsize=(10, 7))\n",
        "sns.heatmap(conf_matrix, annot=True, fmt='d', cmap='Blues', xticklabels=['N', 'AN'], yticklabels=['N', 'AN'])\n",
        "plt.xlabel('Predicted')\n",
        "plt.ylabel('Actual')\n",
        "plt.title('Confusion Matrix')\n",
        "plt.show()"
      ],
      "metadata": {
        "colab": {
          "base_uri": "https://localhost:8080/",
          "height": 1000
        },
        "id": "IHDGbrgbirfx",
        "outputId": "ef13a9f1-0a4b-4a37-ae79-5e37778f6c98"
      },
      "execution_count": null,
      "outputs": [
        {
          "output_type": "stream",
          "name": "stdout",
          "text": [
            "Epoch 1/15\n",
            "73/73 [==============================] - 13s 102ms/step - loss: 0.4431 - accuracy: 0.8651 - val_loss: 0.3603 - val_accuracy: 0.8904\n",
            "Epoch 2/15\n",
            "73/73 [==============================] - 8s 113ms/step - loss: 0.4071 - accuracy: 0.8651 - val_loss: 0.3457 - val_accuracy: 0.8904\n",
            "Epoch 3/15\n",
            "73/73 [==============================] - 6s 88ms/step - loss: 0.3977 - accuracy: 0.8651 - val_loss: 0.3483 - val_accuracy: 0.8904\n",
            "Epoch 4/15\n",
            "73/73 [==============================] - 8s 110ms/step - loss: 0.4004 - accuracy: 0.8651 - val_loss: 0.3525 - val_accuracy: 0.8904\n",
            "Epoch 5/15\n",
            "73/73 [==============================] - 6s 88ms/step - loss: 0.4068 - accuracy: 0.8685 - val_loss: 0.3466 - val_accuracy: 0.8904\n",
            "Epoch 6/15\n",
            "73/73 [==============================] - 8s 114ms/step - loss: 0.3967 - accuracy: 0.8685 - val_loss: 0.3472 - val_accuracy: 0.8904\n",
            "Epoch 7/15\n",
            "73/73 [==============================] - 7s 89ms/step - loss: 0.3947 - accuracy: 0.8685 - val_loss: 0.3547 - val_accuracy: 0.8904\n",
            "Epoch 8/15\n",
            "73/73 [==============================] - 8s 106ms/step - loss: 0.3939 - accuracy: 0.8685 - val_loss: 0.3457 - val_accuracy: 0.8904\n",
            "Epoch 9/15\n",
            "73/73 [==============================] - 7s 91ms/step - loss: 0.4006 - accuracy: 0.8685 - val_loss: 0.3507 - val_accuracy: 0.8904\n",
            "Epoch 10/15\n",
            "73/73 [==============================] - 8s 104ms/step - loss: 0.3992 - accuracy: 0.8685 - val_loss: 0.3457 - val_accuracy: 0.8904\n",
            "Epoch 11/15\n",
            "73/73 [==============================] - 7s 91ms/step - loss: 0.4049 - accuracy: 0.8685 - val_loss: 0.3471 - val_accuracy: 0.8904\n",
            "Epoch 12/15\n",
            "73/73 [==============================] - 7s 102ms/step - loss: 0.3861 - accuracy: 0.8685 - val_loss: 0.3122 - val_accuracy: 0.8904\n",
            "Epoch 13/15\n",
            "73/73 [==============================] - 7s 97ms/step - loss: 0.2049 - accuracy: 0.9239 - val_loss: 0.0945 - val_accuracy: 0.9589\n",
            "Epoch 14/15\n",
            "73/73 [==============================] - 7s 97ms/step - loss: 0.0583 - accuracy: 0.9862 - val_loss: 0.0526 - val_accuracy: 0.9863\n",
            "Epoch 15/15\n",
            "73/73 [==============================] - 7s 98ms/step - loss: 0.0619 - accuracy: 0.9827 - val_loss: 0.0464 - val_accuracy: 0.9863\n",
            "3/3 [==============================] - 0s 54ms/step - loss: 0.1573 - accuracy: 0.9451\n",
            "테스트 정확도: 0.9450549483299255\n",
            "----------------------------------------------\n",
            "3/3 [==============================] - 1s 55ms/step\n"
          ]
        },
        {
          "output_type": "display_data",
          "data": {
            "text/plain": [
              "<Figure size 1000x700 with 2 Axes>"
            ],
            "image/png": "[encoded data removed]"
          },
          "metadata": {}
        }
      ]
    },
    {
      "cell_type": "code",
      "source": [
        "# F1 Score 계산\n",
        "y_test_labels = np.argmax(y_test, axis=1)  # 원-핫 인코딩을 정수 라벨로 변환\n",
        "y_pred_prob = model.predict(X_test)\n",
        "y_pred_labels = np.argmax(y_pred_prob, axis=1)  # 예측 확률을 정수 라벨로 변환\n",
        "\n",
        "precision = precision_score(y_test_labels, y_pred_labels)\n",
        "recall = recall_score(y_test_labels, y_pred_labels)\n",
        "f1 = f1_score(y_test_labels, y_pred_labels)\n",
        "\n",
        "print(f'Precision: {precision}')\n",
        "print(f'Recall: {recall}')\n",
        "print(f'F1 Score: {f1}')\n",
        "print('----------------------------------------------')"
      ],
      "metadata": {
        "colab": {
          "base_uri": "https://localhost:8080/"
        },
        "id": "Sl7u-Qky4LVJ",
        "outputId": "1765990e-add3-4c18-cd36-3fbfa41a2630"
      },
      "execution_count": null,
      "outputs": [
        {
          "output_type": "stream",
          "name": "stdout",
          "text": [
            "3/3 [==============================] - 0s 34ms/step\n",
            "Precision: 0.75\n",
            "Recall: 0.8181818181818182\n",
            "F1 Score: 0.7826086956521738\n",
            "----------------------------------------------\n"
          ]
        }
      ]
    },
    {
      "cell_type": "code",
      "source": [
        "# 모델 생성\n",
        "model = Sequential([\n",
        "    Embedding(input_dim=len(tokenizer.word_index) + 1, output_dim=64, input_length=max_sequence_length),\n",
        "    GRU(128,return_sequences=True),  # GRU 레이어\n",
        "    GRU(64, return_sequences=False),  # GRU 레이어\n",
        "    Dense(2, activation='softmax'),  # Dense 레이어(출력층)\n",
        "])\n",
        "\n",
        "model.compile(loss='binary_crossentropy', optimizer='adam', metrics=['accuracy'])\n",
        "\n",
        "# 모델 훈련\n",
        "history = model.fit(X_train, y_train, epochs=15, validation_split=0.2, batch_size=2)\n",
        "\n",
        "# 모델 평가\n",
        "loss, accuracy = model.evaluate(X_test, y_test)\n",
        "print(f'테스트 정확도: {accuracy}')\n",
        "print('----------------------------------------------')\n",
        "\n",
        "\n",
        "# Confusion Matrix 계산\n",
        "y_test_labels = np.argmax(y_test, axis=1)  # 원-핫 인코딩을 정수 라벨로 변환\n",
        "y_pred_prob = model.predict(X_test)\n",
        "y_pred_labels = np.argmax(y_pred_prob, axis=1)  # 예측 확률을 정수 라벨로 변환\n",
        "\n",
        "conf_matrix = confusion_matrix(y_test_labels, y_pred_labels)\n",
        "\n",
        "# Confusion Matrix 출력\n",
        "plt.figure(figsize=(10, 7))\n",
        "sns.heatmap(conf_matrix, annot=True, fmt='d', cmap='Blues', xticklabels=['N', 'AN'], yticklabels=['N', 'AN'])\n",
        "plt.xlabel('Predicted')\n",
        "plt.ylabel('Actual')\n",
        "plt.title('Confusion Matrix')\n",
        "plt.show()"
      ],
      "metadata": {
        "colab": {
          "base_uri": "https://localhost:8080/",
          "height": 1000
        },
        "id": "QraHyRgoocsj",
        "outputId": "f50e287a-6f35-4f5e-db34-1061f865feeb"
      },
      "execution_count": null,
      "outputs": [
        {
          "output_type": "stream",
          "name": "stdout",
          "text": [
            "Epoch 1/15\n",
            "145/145 [==============================] - 18s 100ms/step - loss: 0.4275 - accuracy: 0.8651 - val_loss: 0.4138 - val_accuracy: 0.8904\n",
            "Epoch 2/15\n",
            "145/145 [==============================] - 13s 93ms/step - loss: 0.3923 - accuracy: 0.8651 - val_loss: 0.3831 - val_accuracy: 0.8904\n",
            "Epoch 3/15\n",
            "145/145 [==============================] - 14s 94ms/step - loss: 0.4148 - accuracy: 0.8651 - val_loss: 0.3509 - val_accuracy: 0.8904\n",
            "Epoch 4/15\n",
            "145/145 [==============================] - 13s 93ms/step - loss: 0.4045 - accuracy: 0.8651 - val_loss: 0.3555 - val_accuracy: 0.8904\n",
            "Epoch 5/15\n",
            "145/145 [==============================] - 13s 93ms/step - loss: 0.4022 - accuracy: 0.8651 - val_loss: 0.3714 - val_accuracy: 0.8904\n",
            "Epoch 6/15\n",
            "145/145 [==============================] - 13s 91ms/step - loss: 0.3923 - accuracy: 0.8685 - val_loss: 0.3650 - val_accuracy: 0.8904\n",
            "Epoch 7/15\n",
            "145/145 [==============================] - 13s 91ms/step - loss: 0.3921 - accuracy: 0.8685 - val_loss: 0.3562 - val_accuracy: 0.8904\n",
            "Epoch 8/15\n",
            "145/145 [==============================] - 13s 92ms/step - loss: 0.3954 - accuracy: 0.8685 - val_loss: 0.3458 - val_accuracy: 0.8904\n",
            "Epoch 9/15\n",
            "145/145 [==============================] - 13s 93ms/step - loss: 0.3967 - accuracy: 0.8685 - val_loss: 0.3544 - val_accuracy: 0.8904\n",
            "Epoch 10/15\n",
            "145/145 [==============================] - 13s 93ms/step - loss: 0.4001 - accuracy: 0.8685 - val_loss: 0.3467 - val_accuracy: 0.8904\n",
            "Epoch 11/15\n",
            "145/145 [==============================] - 14s 93ms/step - loss: 0.3987 - accuracy: 0.8685 - val_loss: 0.3485 - val_accuracy: 0.8904\n",
            "Epoch 12/15\n",
            "145/145 [==============================] - 13s 93ms/step - loss: 0.3948 - accuracy: 0.8685 - val_loss: 0.3506 - val_accuracy: 0.8904\n",
            "Epoch 13/15\n",
            "145/145 [==============================] - 14s 96ms/step - loss: 0.4024 - accuracy: 0.8685 - val_loss: 0.3460 - val_accuracy: 0.8904\n",
            "Epoch 14/15\n",
            "145/145 [==============================] - 14s 97ms/step - loss: 0.3757 - accuracy: 0.8685 - val_loss: 0.2466 - val_accuracy: 0.8904\n",
            "Epoch 15/15\n",
            "145/145 [==============================] - 13s 91ms/step - loss: 0.2594 - accuracy: 0.8997 - val_loss: 0.1633 - val_accuracy: 0.9589\n",
            "3/3 [==============================] - 0s 35ms/step - loss: 0.2473 - accuracy: 0.9341\n",
            "테스트 정확도: 0.9340659379959106\n",
            "----------------------------------------------\n",
            "3/3 [==============================] - 1s 32ms/step\n"
          ]
        },
        {
          "output_type": "display_data",
          "data": {
            "text/plain": [
              "<Figure size 1000x700 with 2 Axes>"
            ],
            "image/png": "[encoded data removed]"
          },
          "metadata": {}
        }
      ]
    },
    {
      "cell_type": "code",
      "source": [
        "# F1 Score 계산\n",
        "y_test_labels = np.argmax(y_test, axis=1)  # 원-핫 인코딩을 정수 라벨로 변환\n",
        "y_pred_prob = model.predict(X_test)\n",
        "y_pred_labels = np.argmax(y_pred_prob, axis=1)  # 예측 확률을 정수 라벨로 변환\n",
        "\n",
        "precision = precision_score(y_test_labels, y_pred_labels)\n",
        "recall = recall_score(y_test_labels, y_pred_labels)\n",
        "f1 = f1_score(y_test_labels, y_pred_labels)\n",
        "\n",
        "print(f'Precision: {precision}')\n",
        "print(f'Recall: {recall}')\n",
        "print(f'F1 Score: {f1}')\n",
        "print('----------------------------------------------')"
      ],
      "metadata": {
        "colab": {
          "base_uri": "https://localhost:8080/"
        },
        "id": "HkXchtDd4Och",
        "outputId": "60f8cdf9-84b8-4cab-c750-d76db9f6d82b"
      },
      "execution_count": null,
      "outputs": [
        {
          "output_type": "stream",
          "name": "stdout",
          "text": [
            "3/3 [==============================] - 0s 34ms/step\n",
            "Precision: 0.6470588235294118\n",
            "Recall: 1.0\n",
            "F1 Score: 0.7857142857142858\n",
            "----------------------------------------------\n"
          ]
        }
      ]
    },
    {
      "cell_type": "code",
      "source": [],
      "metadata": {
        "id": "YcoQXRPBhFCM"
      },
      "execution_count": null,
      "outputs": []
    },
    {
      "cell_type": "markdown",
      "source": [
        "# 최적의 모델"
      ],
      "metadata": {
        "id": "N8JV8gaehEPJ"
      }
    },
    {
      "cell_type": "code",
      "source": [
        "# 모델 생성\n",
        "model = Sequential([\n",
        "    Embedding(input_dim=len(tokenizer.word_index) + 1, output_dim=64, input_length=max_sequence_length),\n",
        "    GRU(512,return_sequences=True),  # GRU 레이어\n",
        "    GRU(256, return_sequences=True),  # GRU 레이어\n",
        "    GRU(128, return_sequences=True),  # GRU 레이어\n",
        "    GRU(64, return_sequences=False),  # GRU 레이어\n",
        "    Dense(2, activation='softmax'),  # Dense 레이어(출력층)\n",
        "])\n",
        "\n",
        "model.compile(loss='binary_crossentropy', optimizer='adam', metrics=['accuracy'])\n",
        "\n",
        "# 모델 훈련\n",
        "history = model.fit(X_train, y_train, epochs=15, validation_split=0.2, batch_size=4)\n",
        "\n",
        "# 모델 평가\n",
        "loss, accuracy = model.evaluate(X_test, y_test)\n",
        "print(f'테스트 정확도: {accuracy}')\n",
        "print('----------------------------------------------')\n",
        "\n",
        "\n",
        "# Confusion Matrix 계산\n",
        "y_test_labels = np.argmax(y_test, axis=1)  # 원-핫 인코딩을 정수 라벨로 변환\n",
        "y_pred_prob = model.predict(X_test)\n",
        "y_pred_labels = np.argmax(y_pred_prob, axis=1)  # 예측 확률을 정수 라벨로 변환\n",
        "\n",
        "conf_matrix = confusion_matrix(y_test_labels, y_pred_labels)\n",
        "\n",
        "# Confusion Matrix 출력\n",
        "plt.figure(figsize=(10, 7))\n",
        "sns.heatmap(conf_matrix, annot=True, fmt='d', cmap='Blues', xticklabels=['N', 'AN'], yticklabels=['N', 'AN'])\n",
        "plt.xlabel('Predicted')\n",
        "plt.ylabel('Actual')\n",
        "plt.title('Confusion Matrix')\n",
        "plt.show()"
      ],
      "metadata": {
        "colab": {
          "base_uri": "https://localhost:8080/",
          "height": 1000
        },
        "id": "l8wqL-0Tp5VV",
        "outputId": "a5692bf9-feab-4eda-9554-fd8207622072"
      },
      "execution_count": null,
      "outputs": [
        {
          "output_type": "stream",
          "name": "stdout",
          "text": [
            "Epoch 1/15\n",
            "73/73 [==============================] - 77s 775ms/step - loss: 0.4363 - accuracy: 0.8651 - val_loss: 0.3867 - val_accuracy: 0.8904\n",
            "Epoch 2/15\n",
            "73/73 [==============================] - 53s 727ms/step - loss: 0.3963 - accuracy: 0.8651 - val_loss: 0.3557 - val_accuracy: 0.8904\n",
            "Epoch 3/15\n",
            "73/73 [==============================] - 55s 757ms/step - loss: 0.3980 - accuracy: 0.8651 - val_loss: 0.3622 - val_accuracy: 0.8904\n",
            "Epoch 4/15\n",
            "73/73 [==============================] - 64s 871ms/step - loss: 0.4009 - accuracy: 0.8685 - val_loss: 0.3579 - val_accuracy: 0.8904\n",
            "Epoch 5/15\n",
            "73/73 [==============================] - 53s 714ms/step - loss: 0.2844 - accuracy: 0.9135 - val_loss: 0.1483 - val_accuracy: 0.9589\n",
            "Epoch 6/15\n",
            "73/73 [==============================] - 54s 742ms/step - loss: 0.1503 - accuracy: 0.9585 - val_loss: 0.1661 - val_accuracy: 0.9452\n",
            "Epoch 7/15\n",
            "73/73 [==============================] - 55s 749ms/step - loss: 0.1068 - accuracy: 0.9723 - val_loss: 0.1687 - val_accuracy: 0.9452\n",
            "Epoch 8/15\n",
            "73/73 [==============================] - 54s 745ms/step - loss: 0.1033 - accuracy: 0.9723 - val_loss: 0.1386 - val_accuracy: 0.9589\n",
            "Epoch 9/15\n",
            "73/73 [==============================] - 54s 740ms/step - loss: 0.0706 - accuracy: 0.9862 - val_loss: 0.1518 - val_accuracy: 0.9589\n",
            "Epoch 10/15\n",
            "73/73 [==============================] - 55s 744ms/step - loss: 0.0753 - accuracy: 0.9862 - val_loss: 0.1182 - val_accuracy: 0.9726\n",
            "Epoch 11/15\n",
            "73/73 [==============================] - 55s 746ms/step - loss: 0.0629 - accuracy: 0.9896 - val_loss: 0.1259 - val_accuracy: 0.9726\n",
            "Epoch 12/15\n",
            "73/73 [==============================] - 54s 737ms/step - loss: 0.0598 - accuracy: 0.9896 - val_loss: 0.1309 - val_accuracy: 0.9726\n",
            "Epoch 13/15\n",
            "73/73 [==============================] - 54s 742ms/step - loss: 0.0598 - accuracy: 0.9896 - val_loss: 0.1310 - val_accuracy: 0.9726\n",
            "Epoch 14/15\n",
            "73/73 [==============================] - 53s 723ms/step - loss: 0.0600 - accuracy: 0.9896 - val_loss: 0.1317 - val_accuracy: 0.9726\n",
            "Epoch 15/15\n",
            "73/73 [==============================] - 52s 709ms/step - loss: 0.0587 - accuracy: 0.9896 - val_loss: 0.1336 - val_accuracy: 0.9726\n",
            "3/3 [==============================] - 1s 295ms/step - loss: 0.1568 - accuracy: 0.9670\n",
            "테스트 정확도: 0.9670329689979553\n",
            "----------------------------------------------\n",
            "3/3 [==============================] - 3s 502ms/step\n"
          ]
        },
        {
          "output_type": "display_data",
          "data": {
            "text/plain": [
              "<Figure size 1000x700 with 2 Axes>"
            ],
            "image/png": "[encoded data removed]"
          },
          "metadata": {}
        }
      ]
    },
    {
      "cell_type": "code",
      "source": [
        "# F1 Score 계산\n",
        "y_test_labels = np.argmax(y_test, axis=1)  # 원-핫 인코딩을 정수 라벨로 변환\n",
        "y_pred_prob = model.predict(X_test)\n",
        "y_pred_labels = np.argmax(y_pred_prob, axis=1)  # 예측 확률을 정수 라벨로 변환\n",
        "\n",
        "precision = precision_score(y_test_labels, y_pred_labels)\n",
        "recall = recall_score(y_test_labels, y_pred_labels)\n",
        "f1 = f1_score(y_test_labels, y_pred_labels)\n",
        "\n",
        "print(f'Precision: {precision}')\n",
        "print(f'Recall: {recall}')\n",
        "print(f'F1 Score: {f1}')\n",
        "print('----------------------------------------------')"
      ],
      "metadata": {
        "colab": {
          "base_uri": "https://localhost:8080/"
        },
        "id": "9lhtJMhqr2DG",
        "outputId": "0ac32955-8d94-414e-fe3c-64e74736fdda"
      },
      "execution_count": null,
      "outputs": [
        {
          "output_type": "stream",
          "name": "stdout",
          "text": [
            "3/3 [==============================] - 1s 406ms/step\n",
            "Precision: 0.8333333333333334\n",
            "Recall: 0.9090909090909091\n",
            "F1 Score: 0.8695652173913043\n",
            "----------------------------------------------\n"
          ]
        }
      ]
    },
    {
      "cell_type": "markdown",
      "source": [],
      "metadata": {
        "id": "8EAGAiBk32sp"
      }
    }
  ]
}