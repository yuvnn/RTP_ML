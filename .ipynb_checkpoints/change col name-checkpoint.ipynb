{
 "cells": [
  {
   "cell_type": "code",
   "execution_count": 3,
   "id": "b5181fb1-a437-4f18-8309-de2441722ca8",
   "metadata": {},
   "outputs": [
    {
     "name": "stdout",
     "output_type": "stream",
     "text": [
      "모든 CSV 파일의 'ff' 열 이름이 'output'으로 변경되었습니다.\n"
     ]
    }
   ],
   "source": [
    "import os\n",
    "import pandas as pd\n",
    "\n",
    "# 폴더 경로를 지정합니다.\n",
    "folder_path = './어디쉐어/어디쉐어 dbscan'\n",
    "\n",
    "# 폴더 내 모든 파일을 순회합니다.\n",
    "for filename in os.listdir(folder_path):\n",
    "    # 확장자가 .csv인 파일만 처리합니다.\n",
    "    if filename.endswith('.csv'):\n",
    "        file_path = os.path.join(folder_path, filename)\n",
    "        \n",
    "        # CSV 파일을 읽어옵니다.\n",
    "        df = pd.read_csv(file_path)\n",
    "        \n",
    "        # 열 이름을 변경합니다.\n",
    "        if 'dbscan output' in df.columns:\n",
    "            df.rename(columns={'dbscan output': 'output'}, inplace=True)\n",
    "        \n",
    "        # 변경된 내용을 다시 파일에 저장합니다.\n",
    "        df.to_csv(file_path, index=False)\n",
    "\n",
    "print(\"모든 CSV 파일의 'dbscan output' 열 이름이 'output'으로 변경되었습니다.\")\n"
   ]
  },
  {
   "cell_type": "code",
   "execution_count": null,
   "id": "4e1b1d8b-ce35-447c-8001-262f81ef569b",
   "metadata": {},
   "outputs": [],
   "source": []
  }
 ],
 "metadata": {
  "kernelspec": {
   "display_name": "study",
   "language": "python",
   "name": "study"
  },
  "language_info": {
   "codemirror_mode": {
    "name": "ipython",
    "version": 3
   },
   "file_extension": ".py",
   "mimetype": "text/x-python",
   "name": "python",
   "nbconvert_exporter": "python",
   "pygments_lexer": "ipython3",
   "version": "3.11.9"
  }
 },
 "nbformat": 4,
 "nbformat_minor": 5
}
